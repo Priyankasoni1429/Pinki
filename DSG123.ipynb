{
 "cells": [
  {
   "cell_type": "code",
   "execution_count": 2,
   "id": "87bd1647",
   "metadata": {},
   "outputs": [
    {
     "name": "stdout",
     "output_type": "stream",
     "text": [
      "Hello DSG1123\n"
     ]
    }
   ],
   "source": [
    "print(\"Hello DSG1123\")"
   ]
  },
  {
   "cell_type": "code",
   "execution_count": 1,
   "id": "ce4f08fd",
   "metadata": {},
   "outputs": [
    {
     "name": "stdout",
     "output_type": "stream",
     "text": [
      "priyanka soni\n"
     ]
    }
   ],
   "source": [
    "print(\"priyanka soni\")"
   ]
  },
  {
   "cell_type": "code",
   "execution_count": 3,
   "id": "519f3a38",
   "metadata": {},
   "outputs": [
    {
     "data": {
      "text/plain": [
       "35"
      ]
     },
     "execution_count": 3,
     "metadata": {},
     "output_type": "execute_result"
    }
   ],
   "source": [
    "10+25"
   ]
  },
  {
   "cell_type": "code",
   "execution_count": 4,
   "id": "e21f949d",
   "metadata": {},
   "outputs": [
    {
     "data": {
      "text/plain": [
       "5"
      ]
     },
     "execution_count": 4,
     "metadata": {},
     "output_type": "execute_result"
    }
   ],
   "source": [
    "15-10"
   ]
  },
  {
   "cell_type": "code",
   "execution_count": 5,
   "id": "f3a622cc",
   "metadata": {},
   "outputs": [
    {
     "data": {
      "text/plain": [
       "3.0"
      ]
     },
     "execution_count": 5,
     "metadata": {},
     "output_type": "execute_result"
    }
   ],
   "source": [
    "15/5"
   ]
  },
  {
   "cell_type": "code",
   "execution_count": null,
   "id": "8e250ee8",
   "metadata": {},
   "outputs": [],
   "source": []
  },
  {
   "cell_type": "code",
   "execution_count": null,
   "id": "b94c0475",
   "metadata": {},
   "outputs": [],
   "source": [
    "to add/insert a cell above the current cell-ESC+A\n",
    "to add/insert a cell below the current cell-ESC+B\n",
    "to run/execute the cells-shift+enter ctrl+enter\n",
    "to delete any specific cell-ESC+D+D"
   ]
  },
  {
   "cell_type": "markdown",
   "id": "1a5179be",
   "metadata": {},
   "source": [
    "Hello students,welcome to the data science"
   ]
  }
 ],
 "metadata": {
  "kernelspec": {
   "display_name": "Python 3 (ipykernel)",
   "language": "python",
   "name": "python3"
  },
  "language_info": {
   "codemirror_mode": {
    "name": "ipython",
    "version": 3
   },
   "file_extension": ".py",
   "mimetype": "text/x-python",
   "name": "python",
   "nbconvert_exporter": "python",
   "pygments_lexer": "ipython3",
   "version": "3.11.5"
  }
 },
 "nbformat": 4,
 "nbformat_minor": 5
}
